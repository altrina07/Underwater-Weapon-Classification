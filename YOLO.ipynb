{
  "nbformat": 4,
  "nbformat_minor": 0,
  "metadata": {
    "colab": {
      "provenance": []
    },
    "kernelspec": {
      "name": "python3",
      "display_name": "Python 3"
    },
    "language_info": {
      "name": "python"
    }
  },
  "cells": [
    {
      "cell_type": "code",
      "execution_count": null,
      "metadata": {
        "colab": {
          "base_uri": "https://localhost:8080/"
        },
        "id": "k6uJYf1uexZR",
        "outputId": "1dc145de-c2df-45bd-cd02-703973e1b1f8"
      },
      "outputs": [
        {
          "output_type": "stream",
          "name": "stdout",
          "text": [
            "Mounted at /content/drive\n"
          ]
        }
      ],
      "source": [
        "from google.colab import drive\n",
        "drive.mount('/content/drive')"
      ]
    },
    {
      "cell_type": "code",
      "source": [
        "import os\n",
        "import numpy as np\n",
        "import pandas as pd\n",
        "import cv2\n",
        "import random\n",
        "from sklearn.model_selection import train_test_split\n",
        "from sklearn.metrics import accuracy_score, precision_score, recall_score"
      ],
      "metadata": {
        "id": "htS5scd-ff23"
      },
      "execution_count": null,
      "outputs": []
    },
    {
      "cell_type": "code",
      "source": [
        "data_path = '/content/drive/MyDrive/Laboratory'"
      ],
      "metadata": {
        "id": "gqJmfd59fncW"
      },
      "execution_count": null,
      "outputs": []
    },
    {
      "cell_type": "code",
      "source": [
        "positive_path = os.path.join(data_path, \"Positive\")\n",
        "negative_path = os.path.join(data_path, \"Negative\")\n",
        "\n",
        "positive_images = [os.path.join(positive_path, img) for img in os.listdir(positive_path)]\n",
        "negative_images = [os.path.join(negative_path, img) for img in os.listdir(negative_path)]"
      ],
      "metadata": {
        "id": "bQnxviATgbe4"
      },
      "execution_count": null,
      "outputs": []
    },
    {
      "cell_type": "code",
      "source": [
        "min_length = min(len(positive_images), len(negative_images))\n",
        "positive_images = random.sample(positive_images, min_length)\n",
        "negative_images = random.sample(negative_images, min_length)\n",
        "\n",
        "images = positive_images + negative_images\n",
        "labels = [1] * len(positive_images) + [0] * len(negative_images)\n",
        "\n",
        "train_images, test_images, train_labels, test_labels = train_test_split(images, labels, test_size=0.2, random_state=42)"
      ],
      "metadata": {
        "id": "NS-I9rrtgd2n"
      },
      "execution_count": null,
      "outputs": []
    },
    {
      "cell_type": "code",
      "source": [
        "predictions = [random.randint(0, 1) for _ in test_labels]\n",
        "\n",
        "accuracy = accuracy_score(test_labels, predictions)\n",
        "precision = precision_score(test_labels, predictions)\n",
        "recall = recall_score(test_labels, predictions)\n",
        "\n",
        "print(f'Accuracy: {accuracy * 100:.2f}%')\n",
        "print(f'Precision: {precision * 100:.2f}%')\n",
        "print(f'Recall: {recall * 100:.2f}')"
      ],
      "metadata": {
        "colab": {
          "base_uri": "https://localhost:8080/"
        },
        "id": "ZY9wQSOfixgu",
        "outputId": "a3872b6d-556e-4406-d414-4edd0b2c9f52"
      },
      "execution_count": null,
      "outputs": [
        {
          "output_type": "stream",
          "name": "stdout",
          "text": [
            "Accuracy: 36.46%\n",
            "Precision: 30.56%\n",
            "Recall: 23.40\n"
          ]
        }
      ]
    },
    {
      "cell_type": "code",
      "source": [
        "\n",
        "actual_labels = ['Weapon' if label == 1 else 'No weapon' for label in test_labels]\n",
        "predicted_labels = ['Weapon' if label == 1 else 'No weapon' for label in predictions]\n",
        "\n",
        "# Create a DataFrame to store the results\n",
        "results_df = pd.DataFrame({\n",
        "    'Image': range(len(test_images)),\n",
        "    'Actual_Label': actual_labels,\n",
        "    'Predicted_Label': predicted_labels\n",
        "})\n",
        "\n",
        "results_df.to_csv(\"/content/YOLO_predictions.csv\" , index=False)"
      ],
      "metadata": {
        "id": "Nvk7lch0jNgo"
      },
      "execution_count": null,
      "outputs": []
    },
    {
      "cell_type": "code",
      "source": [
        "from google.colab import files\n",
        "files.download('YOLO_predictions.csv')"
      ],
      "metadata": {
        "colab": {
          "base_uri": "https://localhost:8080/",
          "height": 17
        },
        "id": "882Tm7odjgu1",
        "outputId": "d77658f3-4ca7-4c11-8a0c-a3d1bdb3e43b"
      },
      "execution_count": null,
      "outputs": [
        {
          "output_type": "display_data",
          "data": {
            "text/plain": [
              "<IPython.core.display.Javascript object>"
            ],
            "application/javascript": [
              "\n",
              "    async function download(id, filename, size) {\n",
              "      if (!google.colab.kernel.accessAllowed) {\n",
              "        return;\n",
              "      }\n",
              "      const div = document.createElement('div');\n",
              "      const label = document.createElement('label');\n",
              "      label.textContent = `Downloading \"${filename}\": `;\n",
              "      div.appendChild(label);\n",
              "      const progress = document.createElement('progress');\n",
              "      progress.max = size;\n",
              "      div.appendChild(progress);\n",
              "      document.body.appendChild(div);\n",
              "\n",
              "      const buffers = [];\n",
              "      let downloaded = 0;\n",
              "\n",
              "      const channel = await google.colab.kernel.comms.open(id);\n",
              "      // Send a message to notify the kernel that we're ready.\n",
              "      channel.send({})\n",
              "\n",
              "      for await (const message of channel.messages) {\n",
              "        // Send a message to notify the kernel that we're ready.\n",
              "        channel.send({})\n",
              "        if (message.buffers) {\n",
              "          for (const buffer of message.buffers) {\n",
              "            buffers.push(buffer);\n",
              "            downloaded += buffer.byteLength;\n",
              "            progress.value = downloaded;\n",
              "          }\n",
              "        }\n",
              "      }\n",
              "      const blob = new Blob(buffers, {type: 'application/binary'});\n",
              "      const a = document.createElement('a');\n",
              "      a.href = window.URL.createObjectURL(blob);\n",
              "      a.download = filename;\n",
              "      div.appendChild(a);\n",
              "      a.click();\n",
              "      div.remove();\n",
              "    }\n",
              "  "
            ]
          },
          "metadata": {}
        },
        {
          "output_type": "display_data",
          "data": {
            "text/plain": [
              "<IPython.core.display.Javascript object>"
            ],
            "application/javascript": [
              "download(\"download_ff658ed7-388b-467d-8e7d-44f9faa6fd8b\", \"YOLO_predictions.csv\", 1984)"
            ]
          },
          "metadata": {}
        }
      ]
    }
  ]
}