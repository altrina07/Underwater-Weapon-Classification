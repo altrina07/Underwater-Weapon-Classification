{
  "nbformat": 4,
  "nbformat_minor": 0,
  "metadata": {
    "colab": {
      "provenance": []
    },
    "kernelspec": {
      "name": "python3",
      "display_name": "Python 3"
    },
    "language_info": {
      "name": "python"
    }
  },
  "cells": [
    {
      "cell_type": "code",
      "execution_count": null,
      "metadata": {
        "colab": {
          "base_uri": "https://localhost:8080/"
        },
        "id": "NRKgQCUtpJ2m",
        "outputId": "885852bc-a554-4f2e-b52b-be3706fcaab1"
      },
      "outputs": [
        {
          "output_type": "stream",
          "name": "stdout",
          "text": [
            "Mounted at /content/drive/\n"
          ]
        }
      ],
      "source": [
        "from google.colab import drive\n",
        "drive.mount('/content/drive/')"
      ]
    },
    {
      "cell_type": "code",
      "source": [
        "# Import necessary libraries\n",
        "import os\n",
        "import numpy as np\n",
        "import pandas as pd\n",
        "import tensorflow as tf\n",
        "from tensorflow.keras.preprocessing.image import ImageDataGenerator\n",
        "from tensorflow.keras.applications import NASNetMobile\n",
        "from tensorflow.keras.layers import GlobalAveragePooling2D, Dense\n",
        "from tensorflow.keras.models import Model\n",
        "from tensorflow.keras.optimizers import Adam\n",
        "from sklearn.metrics import classification_report, confusion_matrix\n",
        "from sklearn.model_selection import train_test_split\n",
        "\n",
        "# Check if TensorFlow can access the GPU\n",
        "tf.test.gpu_device_name()"
      ],
      "metadata": {
        "colab": {
          "base_uri": "https://localhost:8080/",
          "height": 36
        },
        "id": "Q2VnDsuipuH8",
        "outputId": "8ead842c-45d3-45fb-f4ec-efcce594eed7"
      },
      "execution_count": null,
      "outputs": [
        {
          "output_type": "execute_result",
          "data": {
            "text/plain": [
              "''"
            ],
            "application/vnd.google.colaboratory.intrinsic+json": {
              "type": "string"
            }
          },
          "metadata": {},
          "execution_count": 3
        }
      ]
    },
    {
      "cell_type": "markdown",
      "source": [
        "Load and Preprocess the Data"
      ],
      "metadata": {
        "id": "Tm7u2W34p5_L"
      }
    },
    {
      "cell_type": "code",
      "source": [
        "# Define the paths to your dataset\n",
        "data_dir = '/content/drive/MyDrive/Laboratory'\n",
        "positive_dir = os.path.join(data_dir, 'Positive')\n",
        "negative_dir = os.path.join(data_dir, 'Negative')\n",
        "\n",
        "# Create lists to store file paths and labels\n",
        "file_paths = []\n",
        "labels = []\n",
        "\n",
        "# Read the Positive images\n",
        "for file in os.listdir(positive_dir):\n",
        "    file_paths.append(os.path.join(positive_dir, file))\n",
        "    labels.append(1)  # Label for positive images\n",
        "\n",
        "# Read the Negative images\n",
        "for file in os.listdir(negative_dir):\n",
        "    file_paths.append(os.path.join(negative_dir, file))\n",
        "    labels.append(0)  # Label for negative images\n",
        "\n",
        "# Convert to numpy arrays\n",
        "file_paths = np.array(file_paths)\n",
        "labels = np.array(labels)\n",
        "\n",
        "# Convert labels to a list of strings\n",
        "labels = labels.astype(str).tolist()\n",
        "\n",
        "# Split the data into training and testing sets\n",
        "train_paths, test_paths, train_labels, test_labels = train_test_split(file_paths, labels, test_size=0.2, random_state=42)\n",
        "\n",
        "# ImageDataGenerator for data augmentation and preprocessing\n",
        "train_datagen = ImageDataGenerator(\n",
        "    rescale=1./255,\n",
        "    rotation_range=20,\n",
        "    width_shift_range=0.2,\n",
        "    height_shift_range=0.2,\n",
        "    shear_range=0.2,\n",
        "    zoom_range=0.2,\n",
        "    horizontal_flip=True,\n",
        "    fill_mode='nearest'\n",
        ")\n",
        "\n",
        "test_datagen = ImageDataGenerator(rescale=1./255)\n",
        "\n",
        "# Helper function to create a data generator\n",
        "def create_generator(file_paths, labels, datagen, batch_size=32):\n",
        "    return datagen.flow_from_dataframe(\n",
        "        dataframe=pd.DataFrame({'filename': file_paths, 'class': labels}),\n",
        "        x_col='filename',\n",
        "        y_col='class',\n",
        "        target_size=(224, 224),\n",
        "        batch_size=batch_size,\n",
        "        class_mode='binary')\n",
        "\n",
        "# Create generators for training and testing\n",
        "train_generator = create_generator(train_paths, train_labels, train_datagen)\n",
        "test_generator = create_generator(test_paths, test_labels, test_datagen, batch_size=1)  # Set batch_size to 1 for testing\n"
      ],
      "metadata": {
        "colab": {
          "base_uri": "https://localhost:8080/"
        },
        "id": "vMycNrXwqRcX",
        "outputId": "bc6dbb8d-894f-4328-e147-f1485032dccd"
      },
      "execution_count": null,
      "outputs": [
        {
          "output_type": "stream",
          "name": "stdout",
          "text": [
            "Found 384 validated image filenames belonging to 2 classes.\n",
            "Found 96 validated image filenames belonging to 2 classes.\n"
          ]
        }
      ]
    },
    {
      "cell_type": "markdown",
      "source": [
        "Build the NASNet Model"
      ],
      "metadata": {
        "id": "oS5M-DhdrK-A"
      }
    },
    {
      "cell_type": "code",
      "source": [
        "# Load the NASNetMobile model with pre-trained ImageNet weights\n",
        "base_model = NASNetMobile(weights='imagenet', include_top=False, input_shape=(224, 224, 3))\n",
        "\n",
        "# Add custom layers on top of the base model\n",
        "x = base_model.output\n",
        "x = GlobalAveragePooling2D()(x)\n",
        "x = Dense(1024, activation='relu')(x)\n",
        "predictions = Dense(1, activation='sigmoid')(x)\n",
        "\n",
        "# Create the complete model\n",
        "model = Model(inputs=base_model.input, outputs=predictions)\n",
        "\n",
        "# Compile the model\n",
        "model.compile(optimizer=Adam(learning_rate=0.0001), loss='binary_crossentropy', metrics=['accuracy'])\n"
      ],
      "metadata": {
        "colab": {
          "base_uri": "https://localhost:8080/"
        },
        "id": "mupmHRD9rLrv",
        "outputId": "4e00bffc-f02a-49f3-d858-ae748620abee"
      },
      "execution_count": null,
      "outputs": [
        {
          "output_type": "stream",
          "name": "stdout",
          "text": [
            "Downloading data from https://storage.googleapis.com/tensorflow/keras-applications/nasnet/NASNet-mobile-no-top.h5\n",
            "19993432/19993432 [==============================] - 0s 0us/step\n"
          ]
        }
      ]
    },
    {
      "cell_type": "markdown",
      "source": [
        "Train the Model"
      ],
      "metadata": {
        "id": "_t4f7jjXrRY3"
      }
    },
    {
      "cell_type": "code",
      "source": [
        "# Train the model\n",
        "history = model.fit(\n",
        "    train_generator,\n",
        "    steps_per_epoch=len(train_generator),\n",
        "    epochs=10,\n",
        "    validation_data=test_generator,\n",
        "    validation_steps=len(test_generator)\n",
        ")\n"
      ],
      "metadata": {
        "colab": {
          "base_uri": "https://localhost:8080/"
        },
        "id": "W40p_BabrSJp",
        "outputId": "81392086-c12c-4be2-c343-99e1dfc5e9b1"
      },
      "execution_count": null,
      "outputs": [
        {
          "output_type": "stream",
          "name": "stdout",
          "text": [
            "Epoch 1/10\n",
            "12/12 [==============================] - 187s 15s/step - loss: 8.5772e-05 - accuracy: 1.0000 - val_loss: 0.0011 - val_accuracy: 1.0000\n",
            "Epoch 2/10\n",
            "12/12 [==============================] - 171s 14s/step - loss: 1.7765e-04 - accuracy: 1.0000 - val_loss: 0.0010 - val_accuracy: 1.0000\n",
            "Epoch 3/10\n",
            "12/12 [==============================] - 176s 14s/step - loss: 1.9073e-04 - accuracy: 1.0000 - val_loss: 9.4437e-04 - val_accuracy: 1.0000\n",
            "Epoch 4/10\n",
            "12/12 [==============================] - 181s 15s/step - loss: 8.6968e-05 - accuracy: 1.0000 - val_loss: 8.7141e-04 - val_accuracy: 1.0000\n",
            "Epoch 5/10\n",
            "12/12 [==============================] - 180s 15s/step - loss: 7.7992e-05 - accuracy: 1.0000 - val_loss: 8.1392e-04 - val_accuracy: 1.0000\n",
            "Epoch 6/10\n",
            "12/12 [==============================] - 180s 15s/step - loss: 6.6786e-05 - accuracy: 1.0000 - val_loss: 7.5850e-04 - val_accuracy: 1.0000\n",
            "Epoch 7/10\n",
            "12/12 [==============================] - 177s 15s/step - loss: 9.7226e-05 - accuracy: 1.0000 - val_loss: 7.0010e-04 - val_accuracy: 1.0000\n",
            "Epoch 8/10\n",
            "12/12 [==============================] - 178s 15s/step - loss: 5.4485e-05 - accuracy: 1.0000 - val_loss: 6.3628e-04 - val_accuracy: 1.0000\n",
            "Epoch 9/10\n",
            "12/12 [==============================] - 175s 14s/step - loss: 2.1845e-04 - accuracy: 1.0000 - val_loss: 6.5262e-04 - val_accuracy: 1.0000\n",
            "Epoch 10/10\n",
            "12/12 [==============================] - 179s 15s/step - loss: 1.0816e-04 - accuracy: 1.0000 - val_loss: 6.2803e-04 - val_accuracy: 1.0000\n"
          ]
        }
      ]
    },
    {
      "cell_type": "markdown",
      "source": [
        "Evaluate the Model and Save Predictions"
      ],
      "metadata": {
        "id": "R0ZJHEqF7fNz"
      }
    },
    {
      "cell_type": "code",
      "source": [
        "# Evaluate the model on the test set\n",
        "test_labels = np.array(test_labels)\n",
        "test_labels = test_labels.astype(int)\n",
        "test_generator.reset()\n",
        "predictions = model.predict(test_generator, steps=len(test_generator), verbose=1)\n",
        "predictions = (predictions > 0.5).astype(int).flatten()\n",
        "\n",
        "# Calculate performance metrics\n",
        "print(\"Classification Report:\")\n",
        "print(classification_report(test_labels, predictions, target_names=['Negative', 'Positive']))\n",
        "\n",
        "# Calculate the confusion matrix\n",
        "cm = confusion_matrix(test_labels, predictions)\n",
        "\n",
        "# Define the class names\n",
        "class_names = ['Negative', 'Positive']\n",
        "\n",
        "\n"
      ],
      "metadata": {
        "colab": {
          "base_uri": "https://localhost:8080/"
        },
        "id": "fttixtnS7aHN",
        "outputId": "5e5365df-98b4-45e9-d675-8cbe26d36260"
      },
      "execution_count": null,
      "outputs": [
        {
          "output_type": "stream",
          "name": "stdout",
          "text": [
            "96/96 [==============================] - 17s 177ms/step\n",
            "Classification Report:\n",
            "              precision    recall  f1-score   support\n",
            "\n",
            "    Negative       0.45      0.45      0.45        49\n",
            "    Positive       0.43      0.43      0.43        47\n",
            "\n",
            "    accuracy                           0.44        96\n",
            "   macro avg       0.44      0.44      0.44        96\n",
            "weighted avg       0.44      0.44      0.44        96\n",
            "\n"
          ]
        }
      ]
    },
    {
      "cell_type": "code",
      "source": [
        "from sklearn.metrics import confusion_matrix , accuracy_score, precision_score, recall_score\n",
        "accuracy = accuracy_score(test_labels, predictions)\n",
        "precision = precision_score(test_labels, predictions)\n",
        "recall = recall_score(test_labels, predictions)\n",
        "\n",
        "print(f'Accuracy: {accuracy * 100:.2f}%')\n",
        "print(f'Precision: {precision * 100:.2f}%')\n",
        "print(f'Recall: {recall * 100:.2f}')"
      ],
      "metadata": {
        "colab": {
          "base_uri": "https://localhost:8080/"
        },
        "id": "ryj0dosHCeIT",
        "outputId": "cf0c5d16-9e20-4d83-9c07-d9f57c8b4ee4"
      },
      "execution_count": null,
      "outputs": [
        {
          "output_type": "stream",
          "name": "stdout",
          "text": [
            "Accuracy: 43.75%\n",
            "Precision: 42.55%\n",
            "Recall: 42.55\n"
          ]
        }
      ]
    },
    {
      "cell_type": "code",
      "source": [
        "import matplotlib.pyplot as plt\n",
        "import seaborn as sns\n",
        "from sklearn.metrics import confusion_matrix\n",
        "\n",
        "# Create a confusion matrix\n",
        "plt.figure(figsize=(8, 6))\n",
        "sns.set(font_scale=1.2)\n",
        "sns.heatmap(cm, annot=True, fmt='d', cmap='Reds', xticklabels=class_names, yticklabels=class_names)\n",
        "\n",
        "# Add labels and title\n",
        "plt.xlabel('Predicted Labels')\n",
        "plt.ylabel('True Labels')\n",
        "plt.title('Confusion Matrix')\n",
        "\n",
        "# Display the plot\n",
        "plt.show()\n"
      ],
      "metadata": {
        "colab": {
          "base_uri": "https://localhost:8080/",
          "height": 578
        },
        "id": "TMlVssJ9-LlI",
        "outputId": "4c6b2b1f-23fe-4b5d-8524-34cf0ea448a0"
      },
      "execution_count": null,
      "outputs": [
        {
          "output_type": "display_data",
          "data": {
            "text/plain": [
              "<Figure size 800x600 with 2 Axes>"
            ],
            "image/png": "[encoded data removed]"
          },
          "metadata": {}
        }
      ]
    },
    {
      "cell_type": "code",
      "source": [
        "actual_labels = ['Weapon' if label == 1 else 'No weapon' for label in test_labels]\n",
        "predicted_labels = ['Weapon' if label == 1 else 'No weapon' for label in predictions]\n",
        "\n",
        "# Create a DataFrame to store the results\n",
        "results_df = pd.DataFrame({\n",
        "    'Image': range(len(test_labels)),\n",
        "    'Actual_Label': actual_labels,\n",
        "    'Predicted_Label': predicted_labels\n",
        "})\n",
        "\n",
        "results_df.to_csv(\"/content/NASNET_predictions.csv\" , index=False)"
      ],
      "metadata": {
        "id": "npuJTghk-m51"
      },
      "execution_count": null,
      "outputs": []
    },
    {
      "cell_type": "code",
      "source": [
        "from google.colab import files\n",
        "files.download('/content/NASNET_predictions.csv')\n"
      ],
      "metadata": {
        "colab": {
          "base_uri": "https://localhost:8080/",
          "height": 17
        },
        "id": "PMA4jrdm8twj",
        "outputId": "a088b64a-be29-45be-8057-21cb917c940b"
      },
      "execution_count": null,
      "outputs": [
        {
          "output_type": "display_data",
          "data": {
            "text/plain": [
              "<IPython.core.display.Javascript object>"
            ],
            "application/javascript": [
              "\n",
              "    async function download(id, filename, size) {\n",
              "      if (!google.colab.kernel.accessAllowed) {\n",
              "        return;\n",
              "      }\n",
              "      const div = document.createElement('div');\n",
              "      const label = document.createElement('label');\n",
              "      label.textContent = `Downloading \"${filename}\": `;\n",
              "      div.appendChild(label);\n",
              "      const progress = document.createElement('progress');\n",
              "      progress.max = size;\n",
              "      div.appendChild(progress);\n",
              "      document.body.appendChild(div);\n",
              "\n",
              "      const buffers = [];\n",
              "      let downloaded = 0;\n",
              "\n",
              "      const channel = await google.colab.kernel.comms.open(id);\n",
              "      // Send a message to notify the kernel that we're ready.\n",
              "      channel.send({})\n",
              "\n",
              "      for await (const message of channel.messages) {\n",
              "        // Send a message to notify the kernel that we're ready.\n",
              "        channel.send({})\n",
              "        if (message.buffers) {\n",
              "          for (const buffer of message.buffers) {\n",
              "            buffers.push(buffer);\n",
              "            downloaded += buffer.byteLength;\n",
              "            progress.value = downloaded;\n",
              "          }\n",
              "        }\n",
              "      }\n",
              "      const blob = new Blob(buffers, {type: 'application/binary'});\n",
              "      const a = document.createElement('a');\n",
              "      a.href = window.URL.createObjectURL(blob);\n",
              "      a.download = filename;\n",
              "      div.appendChild(a);\n",
              "      a.click();\n",
              "      div.remove();\n",
              "    }\n",
              "  "
            ]
          },
          "metadata": {}
        },
        {
          "output_type": "display_data",
          "data": {
            "text/plain": [
              "<IPython.core.display.Javascript object>"
            ],
            "application/javascript": [
              "download(\"download_24321ed1-7f82-45fb-8f7b-e9694cef9a12\", \"NASNET_predictions.csv\", 1951)"
            ]
          },
          "metadata": {}
        }
      ]
    }
  ]
}