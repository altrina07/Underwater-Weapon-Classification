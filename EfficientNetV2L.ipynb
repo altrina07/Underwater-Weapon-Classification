{
  "nbformat": 4,
  "nbformat_minor": 0,
  "metadata": {
    "colab": {
      "provenance": []
    },
    "kernelspec": {
      "name": "python3",
      "display_name": "Python 3"
    },
    "language_info": {
      "name": "python"
    }
  },
  "cells": [
    {
      "cell_type": "code",
      "source": [
        "from google.colab import drive\n",
        "drive.mount('/content/drive')"
      ],
      "metadata": {
        "colab": {
          "base_uri": "https://localhost:8080/"
        },
        "id": "qNt1yA1H0zgm",
        "outputId": "bdf78aa9-22c8-4786-b9ed-78c8cce60bfe"
      },
      "execution_count": null,
      "outputs": [
        {
          "output_type": "stream",
          "name": "stdout",
          "text": [
            "Mounted at /content/drive\n"
          ]
        }
      ]
    },
    {
      "cell_type": "code",
      "source": [
        "# Step 1: Set up Google Colab environment and import necessary libraries\n",
        "import os\n",
        "import numpy as np\n",
        "import pandas as pd\n",
        "import tensorflow as tf\n",
        "from tensorflow.keras.preprocessing.image import ImageDataGenerator\n",
        "from tensorflow.keras.applications import EfficientNetB7\n",
        "from tensorflow.keras.layers import GlobalAveragePooling2D, Dense, Dropout\n",
        "from tensorflow.keras.models import Model\n",
        "from sklearn.metrics import classification_report, confusion_matrix, accuracy_score, precision_score, recall_score, roc_curve, auc\n",
        "import matplotlib.pyplot as plt\n",
        "\n",
        "# Step 2: Load and preprocess the dataset\n",
        "\n",
        "# Define paths\n",
        "base_dir = '/content/drive/MyDrive/Laboratory'\n",
        "positive_dir = os.path.join(base_dir, 'Positive')\n",
        "negative_dir = os.path.join(base_dir, 'Negative')\n",
        "\n",
        "# Create ImageDataGenerator objects\n",
        "datagen = ImageDataGenerator(validation_split=0.2, rescale=1./255)\n",
        "\n",
        "train_generator = datagen.flow_from_directory(\n",
        "    base_dir,\n",
        "    target_size=(224, 224),\n",
        "    batch_size=32,\n",
        "    class_mode='binary',\n",
        "    subset='training'\n",
        ")\n",
        "\n",
        "validation_generator = datagen.flow_from_directory(\n",
        "    base_dir,\n",
        "    target_size=(224, 224),\n",
        "    batch_size=32,\n",
        "    class_mode='binary',\n",
        "    subset='validation'\n",
        ")\n",
        "\n",
        "# Step 3: Build the EfficientNetB7 model\n",
        "base_model = EfficientNetB7(weights='imagenet', include_top=False, input_shape=(224, 224, 3))\n",
        "x = base_model.output\n",
        "x = GlobalAveragePooling2D()(x)\n",
        "x = Dropout(0.5)(x)\n",
        "predictions = Dense(1, activation='sigmoid')(x)\n",
        "\n",
        "model = Model(inputs=base_model.input, outputs=predictions)\n",
        "\n",
        "# Freeze the base model\n",
        "for layer in base_model.layers:\n",
        "    layer.trainable = False\n",
        "\n",
        "# Compile the model\n",
        "model.compile(optimizer='adam', loss='binary_crossentropy', metrics=['accuracy'])\n",
        "\n",
        "# Step 4: Train the model\n",
        "history = model.fit(\n",
        "    train_generator,\n",
        "    steps_per_epoch=train_generator.samples // train_generator.batch_size,\n",
        "    validation_data=validation_generator,\n",
        "    validation_steps=validation_generator.samples // validation_generator.batch_size,\n",
        "    epochs=10\n",
        ")\n",
        "\n",
        "# Step 5: Evaluate the model\n",
        "train_generator.reset()\n",
        "validation_generator.reset()\n",
        "\n",
        "# Predictions\n",
        "train_predictions = model.predict(train_generator)\n",
        "val_predictions = model.predict(validation_generator)\n",
        "\n",
        "# Convert predictions to binary\n",
        "train_predictions = np.where(train_predictions > 0.5, 1, 0)\n",
        "val_predictions = np.where(val_predictions > 0.5, 1, 0)\n",
        "\n",
        "# Get true labels\n",
        "train_labels = train_generator.classes\n",
        "val_labels = validation_generator.classes\n",
        "\n",
        "# Performance metrics\n",
        "train_accuracy = accuracy_score(train_labels, train_predictions)\n",
        "val_accuracy = accuracy_score(val_labels, val_predictions)\n",
        "train_precision = precision_score(train_labels, train_predictions)\n",
        "val_precision = precision_score(val_labels, val_predictions)\n",
        "train_recall = recall_score(train_labels, train_predictions)\n",
        "val_recall = recall_score(val_labels, val_predictions)\n",
        "\n",
        "print(f'Train Accuracy: {train_accuracy}')\n",
        "print(f'Validation Accuracy: {val_accuracy}')\n",
        "print(f'Train Precision: {train_precision}')\n",
        "print(f'Validation Precision: {val_precision}')\n",
        "print(f'Train Recall: {train_recall}')\n",
        "print(f'Validation Recall: {val_recall}')\n",
        "\n",
        "# Classification report\n",
        "print('Train Classification Report:')\n",
        "print(classification_report(train_labels, train_predictions))\n",
        "print('Validation Classification Report:')\n",
        "print(classification_report(val_labels, val_predictions))\n",
        "\n",
        "# Step 6: Save predictions to CSV\n",
        "train_filenames = train_generator.filenames\n",
        "val_filenames = validation_generator.filenames\n",
        "\n",
        "train_results = pd.DataFrame({\n",
        "    'Filename': train_filenames,\n",
        "    'TrueLabel': train_labels,\n",
        "    'Prediction': train_predictions.flatten()\n",
        "})\n",
        "\n",
        "val_results = pd.DataFrame({\n",
        "    'Filename': val_filenames,\n",
        "    'TrueLabel': val_labels,\n",
        "    'Prediction': val_predictions.flatten()\n",
        "})\n",
        "\n",
        "train_results.to_csv('train_predictions.csv', index=False)\n",
        "val_results.to_csv('val_predictions.csv', index=False)\n",
        "\n",
        "# Download CSV files\n",
        "from google.colab import files\n",
        "files.download('train_predictions.csv')\n",
        "files.download('val_predictions.csv')\n",
        "\n",
        "# Step 7: Plot ROC curve\n",
        "train_fpr, train_tpr, _ = roc_curve(train_labels, train_predictions)\n",
        "val_fpr, val_tpr, _ = roc_curve(val_labels, val_predictions)\n",
        "train_roc_auc = auc(train_fpr, train_tpr)\n",
        "val_roc_auc = auc(val_fpr, val_tpr)\n",
        "\n",
        "plt.figure()\n",
        "plt.plot(train_fpr, train_tpr, color='blue', lw=2, label=f'Train ROC curve (area = {train_roc_auc:.2f})')\n",
        "plt.plot(val_fpr, val_tpr, color='red', lw=2, label=f'Validation ROC curve (area = {val_roc_auc:.2f})')\n",
        "plt.plot([0, 1], [0, 1], color='gray', lw=2, linestyle='--')\n",
        "plt.xlim([0.0, 1.0])\n",
        "plt.ylim([0.0, 1.05])\n",
        "plt.xlabel('False Positive Rate')\n",
        "plt.ylabel('True Positive Rate')\n",
        "plt.title('ROC Curve')\n",
        "plt.legend(loc='lower right')\n",
        "plt.show()"
      ],
      "metadata": {
        "colab": {
          "base_uri": "https://localhost:8080/",
          "height": 1000
        },
        "id": "6mqgSWGpjUuC",
        "outputId": "f49d9189-8fe7-4fda-baaa-562ae23ca7cd"
      },
      "execution_count": null,
      "outputs": [
        {
          "output_type": "stream",
          "name": "stdout",
          "text": [
            "Found 384 images belonging to 2 classes.\n",
            "Found 96 images belonging to 2 classes.\n",
            "Downloading data from https://storage.googleapis.com/keras-applications/efficientnetb7_notop.h5\n",
            "258076736/258076736 [==============================] - 2s 0us/step\n",
            "Epoch 1/10\n",
            "12/12 [==============================] - 366s 26s/step - loss: 0.7160 - accuracy: 0.4948 - val_loss: 0.6997 - val_accuracy: 0.5000\n",
            "Epoch 2/10\n",
            "12/12 [==============================] - 328s 27s/step - loss: 0.7182 - accuracy: 0.4792 - val_loss: 0.6773 - val_accuracy: 0.6042\n",
            "Epoch 3/10\n",
            "12/12 [==============================] - 308s 26s/step - loss: 0.6872 - accuracy: 0.5391 - val_loss: 0.6654 - val_accuracy: 0.6979\n",
            "Epoch 4/10\n",
            "12/12 [==============================] - 319s 27s/step - loss: 0.6814 - accuracy: 0.5495 - val_loss: 0.6563 - val_accuracy: 0.6458\n",
            "Epoch 5/10\n",
            "12/12 [==============================] - 327s 28s/step - loss: 0.6730 - accuracy: 0.5703 - val_loss: 0.6516 - val_accuracy: 0.6250\n",
            "Epoch 6/10\n",
            "12/12 [==============================] - 301s 25s/step - loss: 0.6826 - accuracy: 0.5677 - val_loss: 0.6494 - val_accuracy: 0.6146\n",
            "Epoch 7/10\n",
            "12/12 [==============================] - 307s 26s/step - loss: 0.6595 - accuracy: 0.5964 - val_loss: 0.6428 - val_accuracy: 0.6250\n",
            "Epoch 8/10\n",
            "12/12 [==============================] - 306s 26s/step - loss: 0.6794 - accuracy: 0.5964 - val_loss: 0.6508 - val_accuracy: 0.7083\n",
            "Epoch 9/10\n",
            "12/12 [==============================] - 316s 27s/step - loss: 0.6762 - accuracy: 0.5625 - val_loss: 0.6399 - val_accuracy: 0.6250\n",
            "Epoch 10/10\n",
            "12/12 [==============================] - 308s 26s/step - loss: 0.6652 - accuracy: 0.5938 - val_loss: 0.6394 - val_accuracy: 0.6771\n",
            "12/12 [==============================] - 243s 19s/step\n",
            "3/3 [==============================] - 61s 19s/step\n",
            "Train Accuracy: 0.5078125\n",
            "Validation Accuracy: 0.4270833333333333\n",
            "Train Precision: 0.5064377682403434\n",
            "Validation Precision: 0.43859649122807015\n",
            "Train Recall: 0.6145833333333334\n",
            "Validation Recall: 0.5208333333333334\n",
            "Train Classification Report:\n",
            "              precision    recall  f1-score   support\n",
            "\n",
            "           0       0.51      0.40      0.45       192\n",
            "           1       0.51      0.61      0.56       192\n",
            "\n",
            "    accuracy                           0.51       384\n",
            "   macro avg       0.51      0.51      0.50       384\n",
            "weighted avg       0.51      0.51      0.50       384\n",
            "\n",
            "Validation Classification Report:\n",
            "              precision    recall  f1-score   support\n",
            "\n",
            "           0       0.41      0.33      0.37        48\n",
            "           1       0.44      0.52      0.48        48\n",
            "\n",
            "    accuracy                           0.43        96\n",
            "   macro avg       0.42      0.43      0.42        96\n",
            "weighted avg       0.42      0.43      0.42        96\n",
            "\n"
          ]
        },
        {
          "output_type": "display_data",
          "data": {
            "text/plain": [
              "<IPython.core.display.Javascript object>"
            ],
            "application/javascript": [
              "\n",
              "    async function download(id, filename, size) {\n",
              "      if (!google.colab.kernel.accessAllowed) {\n",
              "        return;\n",
              "      }\n",
              "      const div = document.createElement('div');\n",
              "      const label = document.createElement('label');\n",
              "      label.textContent = `Downloading \"${filename}\": `;\n",
              "      div.appendChild(label);\n",
              "      const progress = document.createElement('progress');\n",
              "      progress.max = size;\n",
              "      div.appendChild(progress);\n",
              "      document.body.appendChild(div);\n",
              "\n",
              "      const buffers = [];\n",
              "      let downloaded = 0;\n",
              "\n",
              "      const channel = await google.colab.kernel.comms.open(id);\n",
              "      // Send a message to notify the kernel that we're ready.\n",
              "      channel.send({})\n",
              "\n",
              "      for await (const message of channel.messages) {\n",
              "        // Send a message to notify the kernel that we're ready.\n",
              "        channel.send({})\n",
              "        if (message.buffers) {\n",
              "          for (const buffer of message.buffers) {\n",
              "            buffers.push(buffer);\n",
              "            downloaded += buffer.byteLength;\n",
              "            progress.value = downloaded;\n",
              "          }\n",
              "        }\n",
              "      }\n",
              "      const blob = new Blob(buffers, {type: 'application/binary'});\n",
              "      const a = document.createElement('a');\n",
              "      a.href = window.URL.createObjectURL(blob);\n",
              "      a.download = filename;\n",
              "      div.appendChild(a);\n",
              "      a.click();\n",
              "      div.remove();\n",
              "    }\n",
              "  "
            ]
          },
          "metadata": {}
        },
        {
          "output_type": "display_data",
          "data": {
            "text/plain": [
              "<IPython.core.display.Javascript object>"
            ],
            "application/javascript": [
              "download(\"download_6b92df06-784c-4fc1-9097-946a2fa0b448\", \"train_predictions.csv\", 10635)"
            ]
          },
          "metadata": {}
        },
        {
          "output_type": "display_data",
          "data": {
            "text/plain": [
              "<IPython.core.display.Javascript object>"
            ],
            "application/javascript": [
              "\n",
              "    async function download(id, filename, size) {\n",
              "      if (!google.colab.kernel.accessAllowed) {\n",
              "        return;\n",
              "      }\n",
              "      const div = document.createElement('div');\n",
              "      const label = document.createElement('label');\n",
              "      label.textContent = `Downloading \"${filename}\": `;\n",
              "      div.appendChild(label);\n",
              "      const progress = document.createElement('progress');\n",
              "      progress.max = size;\n",
              "      div.appendChild(progress);\n",
              "      document.body.appendChild(div);\n",
              "\n",
              "      const buffers = [];\n",
              "      let downloaded = 0;\n",
              "\n",
              "      const channel = await google.colab.kernel.comms.open(id);\n",
              "      // Send a message to notify the kernel that we're ready.\n",
              "      channel.send({})\n",
              "\n",
              "      for await (const message of channel.messages) {\n",
              "        // Send a message to notify the kernel that we're ready.\n",
              "        channel.send({})\n",
              "        if (message.buffers) {\n",
              "          for (const buffer of message.buffers) {\n",
              "            buffers.push(buffer);\n",
              "            downloaded += buffer.byteLength;\n",
              "            progress.value = downloaded;\n",
              "          }\n",
              "        }\n",
              "      }\n",
              "      const blob = new Blob(buffers, {type: 'application/binary'});\n",
              "      const a = document.createElement('a');\n",
              "      a.href = window.URL.createObjectURL(blob);\n",
              "      a.download = filename;\n",
              "      div.appendChild(a);\n",
              "      a.click();\n",
              "      div.remove();\n",
              "    }\n",
              "  "
            ]
          },
          "metadata": {}
        },
        {
          "output_type": "display_data",
          "data": {
            "text/plain": [
              "<IPython.core.display.Javascript object>"
            ],
            "application/javascript": [
              "download(\"download_8339ee6a-3b7d-47d3-b9f7-92843a0eb02d\", \"val_predictions.csv\", 2705)"
            ]
          },
          "metadata": {}
        },
        {
          "output_type": "display_data",
          "data": {
            "text/plain": [
              "<Figure size 640x480 with 1 Axes>"
            ],
            "image/png": "[encoded data removed]"
          },
          "metadata": {}
        }
      ]
    }
  ]
}