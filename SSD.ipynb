{
  "nbformat": 4,
  "nbformat_minor": 0,
  "metadata": {
    "colab": {
      "provenance": []
    },
    "kernelspec": {
      "name": "python3",
      "display_name": "Python 3"
    },
    "language_info": {
      "name": "python"
    }
  },
  "cells": [
    {
      "cell_type": "code",
      "execution_count": null,
      "metadata": {
        "colab": {
          "base_uri": "https://localhost:8080/"
        },
        "id": "z4XKV3qLnUpX",
        "outputId": "8083b5a1-eb78-49d7-b461-5d34426b267d"
      },
      "outputs": [
        {
          "output_type": "stream",
          "name": "stdout",
          "text": [
            "Drive already mounted at /content/drive; to attempt to forcibly remount, call drive.mount(\"/content/drive\", force_remount=True).\n"
          ]
        }
      ],
      "source": [
        "from google.colab import drive\n",
        "drive.mount('/content/drive')"
      ]
    },
    {
      "cell_type": "code",
      "source": [
        "import os\n",
        "import numpy as np\n",
        "import pandas as pd\n",
        "import cv2\n",
        "from sklearn.model_selection import train_test_split\n",
        "from sklearn.metrics import accuracy_score, precision_score, recall_score\n",
        "import tensorflow as tf\n",
        "from tensorflow.keras.applications import MobileNetV2\n",
        "from tensorflow.keras.models import Model\n",
        "from tensorflow.keras.layers import Conv2D, Reshape"
      ],
      "metadata": {
        "id": "UAeQffY1nl2j"
      },
      "execution_count": null,
      "outputs": []
    },
    {
      "cell_type": "code",
      "source": [
        "positive_path = \"/content/drive/MyDrive/Laboratory/Positive\"\n",
        "negative_path = \"/content/drive/MyDrive/Laboratory/Negative\"\n",
        "\n",
        "positive_images = [os.path.join(positive_path, img) for img in os.listdir(positive_path)]\n",
        "negative_images = [os.path.join(negative_path, img) for img in os.listdir(negative_path)]"
      ],
      "metadata": {
        "id": "mspaz6V3nqH7"
      },
      "execution_count": null,
      "outputs": []
    },
    {
      "cell_type": "code",
      "source": [
        "images = []\n",
        "labels = []\n",
        "\n",
        "for img_path in positive_images:\n",
        "    img = cv2.imread(img_path)\n",
        "    img = cv2.resize(img, (224, 224))  # Resize image to fit MobileNetV2 input size\n",
        "    images.append(img)\n",
        "    labels.append(1)  # Positive class\n",
        "\n",
        "for img_path in negative_images:\n",
        "    img = cv2.imread(img_path)\n",
        "    img = cv2.resize(img, (224, 224))  # Resize image to fit MobileNetV2 input size\n",
        "    images.append(img)\n",
        "    labels.append(0)  # Negative class\n",
        "\n",
        "X_train, X_test, y_train, y_test = train_test_split(images, labels, test_size=0.2, random_state=42)"
      ],
      "metadata": {
        "id": "vo8SYOHQoHih"
      },
      "execution_count": null,
      "outputs": []
    },
    {
      "cell_type": "code",
      "source": [
        "base_model = MobileNetV2(weights='imagenet', include_top=False, input_shape=(224, 224, 3))\n",
        "x = base_model.output\n",
        "x = Conv2D(4, kernel_size=(3, 3), padding='same')(x)  # 4 bounding box coordinates\n",
        "x = Reshape((-1, 4))(x)\n",
        "model = Model(inputs=base_model.input, outputs=x)"
      ],
      "metadata": {
        "id": "0_KtJE89o3-3"
      },
      "execution_count": null,
      "outputs": []
    },
    {
      "cell_type": "code",
      "source": [
        "def evaluate_model(model, X_test, y_test):\n",
        "    predictions = model.predict(np.array(X_test))\n",
        "    # Convert predictions to binary (0 or 1) based on confidence threshold\n",
        "    binary_predictions = np.argmax(predictions, axis=2)\n",
        "\n",
        "    def calculate_accuracy(predictions, labels):\n",
        "        # Convert labels to binary array\n",
        "        labels_binary = np.array(labels)\n",
        "        labels_binary = np.expand_dims(labels_binary, axis=1)\n",
        "        labels_binary = np.tile(labels_binary, (1, predictions.shape[1]))\n",
        "\n",
        "        # Flatten predictions and labels\n",
        "        predictions_flat = predictions.flatten()\n",
        "        labels_flat = labels_binary.flatten()\n",
        "\n",
        "        correct_predictions = np.sum(predictions_flat == labels_flat)\n",
        "        accuracy = correct_predictions / len(labels_flat)\n",
        "        return accuracy\n",
        "\n",
        "    def calculate_precision(predictions, labels):\n",
        "        true_positives = np.sum(np.logical_and(predictions == 1, labels == 1))\n",
        "        predicted_positives = np.sum(predictions == 1)\n",
        "        precision = true_positives / predicted_positives\n",
        "        return precision\n",
        "\n",
        "    def calculate_recall(predictions, labels):\n",
        "        true_positives = np.sum(np.logical_and(predictions == 1, labels == 1))\n",
        "        actual_positives = np.sum(labels == 1)\n",
        "        recall = true_positives / actual_positives\n",
        "        return recall\n",
        "\n",
        "    accuracy = calculate_accuracy(binary_predictions, y_test)\n",
        "    precision = calculate_precision(binary_predictions, y_test)\n",
        "    recall = calculate_recall(binary_predictions, y_test)\n",
        "\n",
        "    return accuracy, precision, recall\n"
      ],
      "metadata": {
        "id": "XtiAIQ_bo-EB"
      },
      "execution_count": null,
      "outputs": []
    },
    {
      "cell_type": "code",
      "source": [
        "accuracy, precision, recall = evaluate_model(model, X_test, y_test)\n",
        "print(f'Accuracy: {accuracy * 100:.2f}%')\n",
        "print(f'Precision: {precision * 100:.2f}%')\n",
        "print(f'Recall: {recall * 100:.2f}%')"
      ],
      "metadata": {
        "colab": {
          "base_uri": "https://localhost:8080/"
        },
        "id": "IXNFH9V-wPW_",
        "outputId": "972a21e6-ceb5-42fb-e961-33dae534c97c"
      },
      "execution_count": null,
      "outputs": [
        {
          "output_type": "stream",
          "name": "stdout",
          "text": [
            "3/3 [==============================] - 5s 1s/step\n",
            "Accuracy: 43.18%\n",
            "Precision: 0.00%\n",
            "Recall: nan%\n"
          ]
        },
        {
          "output_type": "stream",
          "name": "stderr",
          "text": [
            "<ipython-input-9-550c33fc7853>:29: RuntimeWarning: invalid value encountered in scalar divide\n",
            "  recall = true_positives / actual_positives\n"
          ]
        }
      ]
    },
    {
      "cell_type": "code",
      "source": [
        "print(len(positive_images))\n",
        "print(len(negative_images))"
      ],
      "metadata": {
        "colab": {
          "base_uri": "https://localhost:8080/"
        },
        "id": "aKm1J93S0NtL",
        "outputId": "e58d20a8-a46e-4680-8676-1c6768c78f47"
      },
      "execution_count": null,
      "outputs": [
        {
          "output_type": "stream",
          "name": "stdout",
          "text": [
            "240\n",
            "240\n"
          ]
        }
      ]
    },
    {
      "cell_type": "code",
      "source": [
        "# Ensure the number of positive and negative images matches\n",
        "min_images = min(len(positive_images), len(negative_images))\n",
        "positive_images = positive_images[:min_images]\n",
        "negative_images = negative_images[:min_images]\n",
        "\n",
        "# Generate predictions\n",
        "predictions_binary = np.argmax(model.predict(np.array(images)), axis=2)\n",
        "predictions_labels = [\"Weapon\" if pred == 1 else \"No Weapon\" for pred in predictions_binary.flatten()]\n",
        "\n",
        "# Create DataFrames for positive and negative images\n",
        "positive_df = pd.DataFrame({'Image_Path': positive_images,\n",
        "                            'Actual_Label': 'Weapon',\n",
        "                            'Predicted_Label': predictions_labels[:min_images]})\n",
        "negative_df = pd.DataFrame({'Image_Path': negative_images,\n",
        "                            'Actual_Label': 'No Weapon',\n",
        "                            'Predicted_Label': predictions_labels[:min_images]})  # Use the same indices as positive for negative\n",
        "\n",
        "# Concatenate DataFrames\n",
        "predictions = pd.concat([positive_df, negative_df], ignore_index=True)\n",
        "\n",
        "# Save DataFrame to CSV\n",
        "predictions.to_csv('/content/predictions_with_predictions.csv', index=False)\n"
      ],
      "metadata": {
        "colab": {
          "base_uri": "https://localhost:8080/"
        },
        "id": "aKKSSCo_wb-m",
        "outputId": "6757ca7a-93bf-45eb-9162-ea141dc743da"
      },
      "execution_count": null,
      "outputs": [
        {
          "output_type": "stream",
          "name": "stdout",
          "text": [
            "15/15 [==============================] - 20s 1s/step\n"
          ]
        }
      ]
    },
    {
      "cell_type": "code",
      "source": [
        "from google.colab import files\n",
        "files.download('predictions_with_predictions.csv')"
      ],
      "metadata": {
        "colab": {
          "base_uri": "https://localhost:8080/",
          "height": 17
        },
        "id": "Ct8RJlYHw5oO",
        "outputId": "23a43d8e-0493-4ff0-f9bc-7a3bb38859b6"
      },
      "execution_count": null,
      "outputs": [
        {
          "output_type": "display_data",
          "data": {
            "text/plain": [
              "<IPython.core.display.Javascript object>"
            ],
            "application/javascript": [
              "\n",
              "    async function download(id, filename, size) {\n",
              "      if (!google.colab.kernel.accessAllowed) {\n",
              "        return;\n",
              "      }\n",
              "      const div = document.createElement('div');\n",
              "      const label = document.createElement('label');\n",
              "      label.textContent = `Downloading \"${filename}\": `;\n",
              "      div.appendChild(label);\n",
              "      const progress = document.createElement('progress');\n",
              "      progress.max = size;\n",
              "      div.appendChild(progress);\n",
              "      document.body.appendChild(div);\n",
              "\n",
              "      const buffers = [];\n",
              "      let downloaded = 0;\n",
              "\n",
              "      const channel = await google.colab.kernel.comms.open(id);\n",
              "      // Send a message to notify the kernel that we're ready.\n",
              "      channel.send({})\n",
              "\n",
              "      for await (const message of channel.messages) {\n",
              "        // Send a message to notify the kernel that we're ready.\n",
              "        channel.send({})\n",
              "        if (message.buffers) {\n",
              "          for (const buffer of message.buffers) {\n",
              "            buffers.push(buffer);\n",
              "            downloaded += buffer.byteLength;\n",
              "            progress.value = downloaded;\n",
              "          }\n",
              "        }\n",
              "      }\n",
              "      const blob = new Blob(buffers, {type: 'application/binary'});\n",
              "      const a = document.createElement('a');\n",
              "      a.href = window.URL.createObjectURL(blob);\n",
              "      a.download = filename;\n",
              "      div.appendChild(a);\n",
              "      a.click();\n",
              "      div.remove();\n",
              "    }\n",
              "  "
            ]
          },
          "metadata": {}
        },
        {
          "output_type": "display_data",
          "data": {
            "text/plain": [
              "<IPython.core.display.Javascript object>"
            ],
            "application/javascript": [
              "download(\"download_d8667208-4ad3-41d3-8d55-8387cc46e84c\", \"predictions_with_predictions.csv\", 35784)"
            ]
          },
          "metadata": {}
        }
      ]
    }
  ]
}